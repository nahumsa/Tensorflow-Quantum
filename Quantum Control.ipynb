{
  "nbformat": 4,
  "nbformat_minor": 0,
  "metadata": {
    "colab": {
      "name": "Quantum Control.ipynb",
      "provenance": [],
      "collapsed_sections": [],
      "authorship_tag": "ABX9TyMDzaN+IUoYnSgxkf6+IzqX",
      "include_colab_link": true
    },
    "kernelspec": {
      "name": "python3",
      "display_name": "Python 3"
    },
    "accelerator": "GPU"
  },
  "cells": [
    {
      "cell_type": "markdown",
      "metadata": {
        "id": "view-in-github",
        "colab_type": "text"
      },
      "source": [
        "<a href=\"https://colab.research.google.com/github/nahumsa/Tensorflow-Quantum/blob/master/Quantum%20Control.ipynb\" target=\"_parent\"><img src=\"https://colab.research.google.com/assets/colab-badge.svg\" alt=\"Open In Colab\"/></a>"
      ]
    },
    {
      "cell_type": "markdown",
      "metadata": {
        "id": "9JBhOhk6o6Vu",
        "colab_type": "text"
      },
      "source": [
        "# Quantum Control Optimization\n",
        "\n",
        "This notebook is based on the TFQ whitepaper, especifically on this [notebook](https://github.com/tensorflow/quantum/blob/research/control/control.ipynb)."
      ]
    },
    {
      "cell_type": "markdown",
      "metadata": {
        "id": "corlvmJTUKlX",
        "colab_type": "text"
      },
      "source": [
        "## 0) Importing dependencies"
      ]
    },
    {
      "cell_type": "code",
      "metadata": {
        "id": "N6JgIOx-IZoZ",
        "colab_type": "code",
        "colab": {}
      },
      "source": [
        "!pip install --upgrade tensorflow==2.1.0"
      ],
      "execution_count": 0,
      "outputs": []
    },
    {
      "cell_type": "code",
      "metadata": {
        "id": "dJjmireQo2Xy",
        "colab_type": "code",
        "colab": {}
      },
      "source": [
        "!pip install tensorflow-quantum"
      ],
      "execution_count": 0,
      "outputs": []
    },
    {
      "cell_type": "code",
      "metadata": {
        "id": "fJXHN2fdpwcf",
        "colab_type": "code",
        "colab": {}
      },
      "source": [
        "import tensorflow as tf\n",
        "import tensorflow_quantum as tfq\n",
        "import cirq\n",
        "import sympy\n",
        "import cmath\n",
        "import numpy as np\n",
        "import scipy as sp\n",
        "\n",
        "%matplotlib inline\n",
        "import matplotlib.pyplot as plt\n",
        "from cirq.contrib.svg import SVGCircuit"
      ],
      "execution_count": 0,
      "outputs": []
    },
    {
      "cell_type": "markdown",
      "metadata": {
        "id": "wOSqcr7Uo4vk",
        "colab_type": "text"
      },
      "source": [
        "## 1) Time constant Hamiltonian control\n",
        "\n",
        "For this first problem we want to teach a neural network to control a quantum state which there has no time dependence. So for this specific problem we would like to use a supervised learning method, therefore we would have to collect a tuple of data (X,Y). This problem is that we want to decompose an arbitrary unitary into single-qubit gate decomposition.\n",
        "\n",
        "The X data must be the control needed to make Y."
      ]
    },
    {
      "cell_type": "markdown",
      "metadata": {
        "id": "YTAafTwQqtCj",
        "colab_type": "text"
      },
      "source": [
        "Up to a global phase, any one-qubit unitary can be specified in terms of 3 angles $\\phi$, $\\theta_1$ and $\\theta_2$, such as:\n",
        "\n",
        "\\begin{equation}\n",
        "  U = exp \\bigg(-i \\phi \\big(cos\\theta_1 \\ X + sin\\theta_1 \\ \\big( cos\\theta_2  \\ Y + sin \\theta_2 \\ Z \\big) \\big) \\bigg)\n",
        "\\end{equation}\n",
        "\n",
        "This can be mapped to rotations along only two non-parallel axis such as: $U = R_z(\\beta) R_y(\\gamma) R_z(\\delta)$ , where $R_z(\\delta) = exp( - \\frac{\\delta}{2} i Z)$ and $R_y(\\delta) = exp( - \\frac{\\delta}{2} i Y)$.\n",
        "\n",
        "Thus we need to map $(\\phi, \\theta_1, \\theta_2) \\rightarrow (\\beta, \\gamma, \\delta)$, this can be done easily equating both equations and we have a helper function `map_unitary_params` that does exactly this map."
      ]
    },
    {
      "cell_type": "code",
      "metadata": {
        "id": "7oIAxPIIqY8r",
        "colab_type": "code",
        "colab": {}
      },
      "source": [
        "def get_unitary_from_params(phi, theta_1, theta_2):\n",
        "  return sp.linalg.expm(-1j*phi*(\n",
        "      np.cos(theta_1)*cirq.Z._unitary_()\n",
        "      + np.sin(theta_1)*(\n",
        "          np.cos(theta_2)*cirq.X._unitary_()\n",
        "          + np.sin(theta_2)*cirq.Y._unitary_()\n",
        "      )\n",
        "  ))"
      ],
      "execution_count": 0,
      "outputs": []
    },
    {
      "cell_type": "code",
      "metadata": {
        "id": "Xb9dmJpNsgkY",
        "colab_type": "code",
        "colab": {}
      },
      "source": [
        "def map_unitary_params(phi, theta_1, theta_2):\n",
        "  \"\"\"Convert unitary angles into two-axis control angles.\"\"\"\n",
        "  #### Below works ONLY when all input angles are less than pi\n",
        "\n",
        "  gamma = -2*np.arccos(-np.sqrt(3 + np.cos(2 * theta_1)  + 2 * np.sin(theta_1) ** 2 * np.cos(phi* 2) )/2.0)\n",
        "\n",
        "  delta = 2*np.real(-  1j * np.log(-(-1.0) ** (1/4) *np.sqrt(- np.exp(1j * phi) * (-1 + np.exp(2 * 1j * phi))   * \n",
        "                                                              np.sqrt(3 + np.cos(2 * theta_1)  + 2 * np.sin(theta_1) ** 2 * np.cos(phi* 2) )) /\n",
        "                                      2 / np.sqrt(-np.exp(1j * ( 2 *phi+ theta_2)) * np.sin(phi) ** 2 \n",
        "                                                  * (np.cos(theta_1) + 1j / np.tan(phi))) ))\n",
        "\n",
        "  beta = 2*np.real(-  1j * np.log(- np.exp(1j * ( phi+ theta_2)) * \n",
        "                                      np.sqrt(-1j * np.exp(1j * phi)*(-1 + np.exp(2 * 1j * phi))\n",
        "                                      *np.sqrt(3 + np.cos(2 * theta_1)  + 2 * np.sin(theta_1) ** 2 * np.cos(phi* 2) ))\n",
        "                                      * np.sin(phi)/(-1 + np.exp(2 * 1j * phi)) /\n",
        "                                      np.sqrt(- np.exp(1j * (2 * phi+ theta_2)) * np.sin(phi) *( np.sin(phi) * np.cos(theta_1) + 1j * np.cos(phi) )) ))\n",
        "\n",
        "  return beta, gamma, delta"
      ],
      "execution_count": 0,
      "outputs": []
    },
    {
      "cell_type": "markdown",
      "metadata": {
        "id": "pFY-WSj912Nx",
        "colab_type": "text"
      },
      "source": [
        "### 1.1) Training data\n",
        "Now we can construct our traning data, which is $(\\beta, \\gamma, \\delta)$ distributed uniformly and we split into a training and validation sets."
      ]
    },
    {
      "cell_type": "code",
      "metadata": {
        "id": "woHO4Y6Vsg9o",
        "colab_type": "code",
        "colab": {}
      },
      "source": [
        "def get_angles_training_data(batch_size):\n",
        "    data = []\n",
        "    labels = []\n",
        "    for _ in range(batch_size):\n",
        "      random_unitary_params = np.random.uniform(0,  np.pi, (3)).tolist()\n",
        "      beta, gamma, delta = map_unitary_params(*random_unitary_params)\n",
        "      data.append(random_unitary_params)\n",
        "      labels.append([beta, gamma, delta])\n",
        "    return data, labels"
      ],
      "execution_count": 0,
      "outputs": []
    },
    {
      "cell_type": "code",
      "metadata": {
        "id": "FrTrC_pB2G9y",
        "colab_type": "code",
        "colab": {}
      },
      "source": [
        "train_size = 10000\n",
        "validation_size = 10000\n",
        "all_commands, all_expectations = get_angles_training_data(train_size + validation_size)\n",
        "\n",
        "commands_train = all_commands[:train_size]\n",
        "expectations_train = all_expectations[:train_size]\n",
        "commands_val = all_commands[-validation_size:]\n",
        "expectations_val = all_expectations[-validation_size:]"
      ],
      "execution_count": 0,
      "outputs": []
    },
    {
      "cell_type": "markdown",
      "metadata": {
        "id": "G021PHGi3IlH",
        "colab_type": "text"
      },
      "source": [
        "Let's see if the data is consistent with what we assumed. So we will use the inner product $\\left< U, V \\right> = \\mathrm{Tr} ( U^{\\dagger}V )$ and see how far both unitaries are from each other."
      ]
    },
    {
      "cell_type": "code",
      "metadata": {
        "id": "GQnjoYc13rZi",
        "colab_type": "code",
        "colab": {}
      },
      "source": [
        "def inner_product(V,U):\n",
        "  return np.trace(np.matmul(V.conj().T, U)) ** 2 / 2**(len(V))\n",
        "\n",
        "\n",
        "q = cirq.GridQubit(0, 0)\n",
        "for data_angles, label_angles in zip(commands_train, all_expectations):\n",
        "  test_phi, test_theta_1, test_theta_2 = data_angles\n",
        "  beta = label_angles[0]\n",
        "  gamma = label_angles[1]\n",
        "  delta = label_angles[2]\n",
        "  U = get_unitary_from_params(test_phi, test_theta_1, test_theta_2)\n",
        "  V = np.matmul(cirq.rz(beta)._unitary_(),\n",
        "      np.matmul(cirq.ry(gamma)._unitary_(), cirq.rz(delta)._unitary_()))\n",
        "\n",
        "  circuit = cirq.Circuit(cirq.rz(delta)(q), cirq.ry(gamma)(q), cirq.rz(beta)(q))\n",
        " \n",
        "  check1= inner_product(V, circuit.unitary())  \n",
        "\n",
        "  check = inner_product(V, U)\n",
        "  \n",
        "  if (abs(abs(check) - 1) > 1e-5) and (abs(abs(check1) - 1) > 1e-5):\n",
        "    print(f\"Inner product value: {check}\")    \n",
        "    print(f\"Input angles quadrant check: {[int(test_phi>np.pi), int(test_theta_1>np.pi), int(test_theta_2>np.pi)]}\")    "
      ],
      "execution_count": 0,
      "outputs": []
    },
    {
      "cell_type": "markdown",
      "metadata": {
        "id": "rWHCv8rv4Etu",
        "colab_type": "text"
      },
      "source": [
        "Let' prepare the training data using the expectation values for each circuit. For this we will use the `Expectation` layer on TFQ, this layer, as the name suggests, calculate the expectation value of observables for a given circuit and parameter values.\n",
        "\n",
        "For our case we will do the state tomography ,that is getting the expectation value of X, Y and Z."
      ]
    },
    {
      "cell_type": "code",
      "metadata": {
        "id": "kc3hX94z6Mwm",
        "colab_type": "code",
        "colab": {}
      },
      "source": [
        "def get_expectation_training_data(batch_size):\n",
        "    q = cirq.GridQubit(0, 0)\n",
        "    beta_s, gamma_s, delta_s = sympy.symbols(\"beta gamma delta\")\n",
        "    circuit = cirq.Circuit(cirq.rz(delta_s)(q), cirq.ry(gamma_s)(q), cirq.rz(beta_s)(q))\n",
        "    ops = [cirq.X(q), cirq.Y(q), cirq.Z(q)] #Observables\n",
        "\n",
        "    params = []\n",
        "    outputs = []\n",
        "    for _ in range(batch_size):\n",
        "      random_unitary_params = np.random.uniform(0,  np.pi, (3)).tolist()\n",
        "      beta, gamma, delta = map_unitary_params(*random_unitary_params)\n",
        "      expectations = tfq.layers.Expectation()(\n",
        "          circuit, \n",
        "          symbol_names=[beta_s, gamma_s, delta_s],\n",
        "          symbol_values=[[beta, gamma, delta]],\n",
        "          operators=ops \n",
        "      ).numpy().tolist()[0]\n",
        "      params.append(random_unitary_params)\n",
        "      outputs.append(expectations)\n",
        "    return params, outputs"
      ],
      "execution_count": 0,
      "outputs": []
    },
    {
      "cell_type": "markdown",
      "metadata": {
        "id": "d_rkqs2uCcIh",
        "colab_type": "text"
      },
      "source": [
        "Let's convert the data into commands of the circuit using the `get_expectation_training_data`.\n",
        "\n",
        "Since we are using a supervised learning method, we need to gather the (X, Y) tuples for training. \n",
        "\n",
        "The input of the neural is the circuit and the commands for that circuit, the output is the expectation values of X, Y and Z."
      ]
    },
    {
      "cell_type": "code",
      "metadata": {
        "id": "DsZzUIF-BbBz",
        "colab_type": "code",
        "colab": {}
      },
      "source": [
        "train_size = 10000\n",
        "validation_size = 10000\n",
        "all_commands, all_expectations = get_expectation_training_data(train_size + validation_size)\n",
        "\n",
        "commands_train = all_commands[:train_size]\n",
        "expectations_train = all_expectations[:train_size]\n",
        "commands_val = all_commands[-validation_size:]\n",
        "expectations_val = all_expectations[-validation_size:]\n",
        "\n",
        "X = [tfq.convert_to_tensor([cirq.Circuit()]*train_size), tf.convert_to_tensor(commands_train)]\n",
        "Y = tf.convert_to_tensor(expectations_train)\n",
        "val_X = [tfq.convert_to_tensor([cirq.Circuit()]*validation_size), tf.convert_to_tensor(commands_val)]\n",
        "val_Y = tf.convert_to_tensor(expectations_val)"
      ],
      "execution_count": 0,
      "outputs": []
    },
    {
      "cell_type": "markdown",
      "metadata": {
        "id": "5wVjR3B3--Sd",
        "colab_type": "text"
      },
      "source": [
        "### 1.2) Building the model\n",
        "\n",
        "Let's now build a hybrid classical-quantum neural network to control $\\beta, \\gamma, \\delta$"
      ]
    },
    {
      "cell_type": "code",
      "metadata": {
        "id": "0Hpk63Cc_Tun",
        "colab_type": "code",
        "colab": {
          "base_uri": "https://localhost:8080/",
          "height": 70
        },
        "outputId": "ecd6f638-5412-4c98-dd57-827baf157704"
      },
      "source": [
        "#parameters that will be fed into the QNN\n",
        "control_params = sympy.symbols([f'theta_{n}' for n in range(3)])\n",
        "\n",
        "#Creating parametrized circuit\n",
        "qubit = cirq.GridQubit(0,0)\n",
        "two_axis_control_circuit = cirq.Circuit(\n",
        "                    cirq.rz(control_params[2])(qubit),\n",
        "                    cirq.ry(control_params[1])(qubit),\n",
        "                    cirq.rz(control_params[0])(qubit)\n",
        "                    )\n",
        "\n",
        "#Let's measure along X, Y and Z\n",
        "pauli_x = cirq.PauliString(cirq.X(qubit))\n",
        "pauli_y = cirq.PauliString(cirq.Y(qubit))\n",
        "pauli_z = cirq.PauliString(cirq.Z(qubit))\n",
        "measurements = [pauli_x, pauli_y, pauli_z]\n",
        "\n",
        "#display circuit\n",
        "SVGCircuit(two_axis_control_circuit)"
      ],
      "execution_count": 20,
      "outputs": [
        {
          "output_type": "execute_result",
          "data": {
            "text/plain": [
              "<cirq.contrib.svg.svg.SVGCircuit at 0x7ff9c5ee8588>"
            ],
            "image/svg+xml": "<svg xmlns=\"http://www.w3.org/2000/svg\" width=\"434.80796875000004\" height=\"50.0\"><line x1=\"34.7588671875\" x2=\"404.80796875000004\" y1=\"25.0\" y2=\"25.0\" stroke=\"#1967d2\" stroke-width=\"1\" /><rect x=\"10.0\" y=\"5.0\" width=\"49.517734375\" height=\"40\" stroke=\"black\" fill=\"white\" stroke-width=\"0\" /><text x=\"34.7588671875\" y=\"25.0\" dominant-baseline=\"middle\" text-anchor=\"middle\" font-size=\"14px\">(0, 0): </text><rect x=\"79.517734375\" y=\"5.0\" width=\"88.37457031250001\" height=\"40\" stroke=\"black\" fill=\"white\" stroke-width=\"1\" /><text x=\"123.70501953125\" y=\"25.0\" dominant-baseline=\"middle\" text-anchor=\"middle\" font-size=\"14px\">Rz(theta_2)</text><rect x=\"187.89230468750003\" y=\"5.0\" width=\"88.54109375\" height=\"40\" stroke=\"black\" fill=\"white\" stroke-width=\"1\" /><text x=\"232.16285156250004\" y=\"25.0\" dominant-baseline=\"middle\" text-anchor=\"middle\" font-size=\"14px\">Ry(theta_1)</text><rect x=\"296.43339843750005\" y=\"5.0\" width=\"88.37457031250001\" height=\"40\" stroke=\"black\" fill=\"white\" stroke-width=\"1\" /><text x=\"340.6206835937501\" y=\"25.0\" dominant-baseline=\"middle\" text-anchor=\"middle\" font-size=\"14px\">Rz(theta_0)</text></svg>"
          },
          "metadata": {
            "tags": []
          },
          "execution_count": 20
        }
      ]
    },
    {
      "cell_type": "markdown",
      "metadata": {
        "id": "T9z4y6hGBv54",
        "colab_type": "text"
      },
      "source": [
        "For our model we will need to use the `ControlledPQC` layer, which needs the output of another layer to provide the parameters for the circuit."
      ]
    },
    {
      "cell_type": "code",
      "metadata": {
        "id": "imAnTxE4_zS5",
        "colab_type": "code",
        "colab": {}
      },
      "source": [
        "circuits_input = tf.keras.Input(shape=(), dtype=tf.dtypes.string, name='circuits_input')\n",
        "commands_input = tf.keras.Input((3,), name='commands_input')\n",
        "dense_layer_1 = tf.keras.layers.Dense(128, activation='relu', name='dense_layer_1')(commands_input)\n",
        "dense_layer_2 = tf.keras.layers.Dense(128, name='dense_layer_2')(dense_layer_1)\n",
        "dense_layer_3 = tf.keras.layers.Dense(64, activation='relu', name='dense_layer_3')(dense_layer_2) \n",
        "angles_layer = tf.keras.layers.Dense(3,  activation='linear', name='angles_layer')(dense_layer_3)\n",
        "\n",
        "measured_expectations = tfq.layers.ControlledPQC(\n",
        "    two_axis_control_circuit, measurements)([circuits_input, angles_layer])\n",
        "\n",
        "two_axis_control_model = tf.keras.Model(inputs=[circuits_input, commands_input], outputs=measured_expectations)"
      ],
      "execution_count": 0,
      "outputs": []
    },
    {
      "cell_type": "markdown",
      "metadata": {
        "id": "M7U_QxYSDDSG",
        "colab_type": "text"
      },
      "source": [
        "### 1.3) Training the model\n",
        "\n",
        "Let's train with the Adam optimizer and a decay learning rate."
      ]
    },
    {
      "cell_type": "code",
      "metadata": {
        "id": "GFJPrCFuJPuB",
        "colab_type": "code",
        "colab": {}
      },
      "source": [
        "epochs = 100\n",
        "batch_size = 1024\n",
        "lr=0.010 \n",
        "\n",
        "optimizer = tf.keras.optimizers.Adam(learning_rate=lr, decay= lr / epochs)\n",
        "\n",
        "two_axis_control_model.compile(optimizer=optimizer, loss= 'mse')\n",
        "\n",
        "history = two_axis_control_model.fit(x=X,\n",
        "                                     y=Y, \n",
        "                                     batch_size=batch_size, \n",
        "                                     epochs=epochs,\n",
        "                                     validation_data=(val_X, val_Y),                                     \n",
        "                                      )"
      ],
      "execution_count": 0,
      "outputs": []
    },
    {
      "cell_type": "code",
      "metadata": {
        "id": "EK_SayTyMD5v",
        "colab_type": "code",
        "colab": {
          "base_uri": "https://localhost:8080/",
          "height": 294
        },
        "outputId": "5ea43fed-b8d7-488f-a721-87f659e95488"
      },
      "source": [
        "history = history.history\n",
        "loss = history['loss']\n",
        "val_loss = history['val_loss']\n",
        "plt.plot(loss, label='Training')\n",
        "plt.plot(val_loss, label='Validation')\n",
        "plt.title(\"Loss\")\n",
        "plt.xlabel(\"Epochs\")\n",
        "plt.ylabel(\"Error in Control\")\n",
        "plt.legend()\n",
        "plt.show()"
      ],
      "execution_count": 49,
      "outputs": [
        {
          "output_type": "display_data",
          "data": {
            "image/png": "[encoded data removed]",
            "text/plain": [
              "<Figure size 432x288 with 1 Axes>"
            ]
          },
          "metadata": {
            "tags": [],
            "needs_background": "light"
          }
        }
      ]
    },
    {
      "cell_type": "code",
      "metadata": {
        "id": "-K5MsLtFU5Ir",
        "colab_type": "code",
        "colab": {}
      },
      "source": [
        ""
      ],
      "execution_count": 0,
      "outputs": []
    }
  ]
}